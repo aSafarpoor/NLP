{
  "nbformat": 4,
  "nbformat_minor": 5,
  "metadata": {
    "kernelspec": {
      "display_name": "Python 3.9.4 64-bit",
      "language": "python",
      "name": "python394jvsc74a57bd0767d51c1340bd893661ea55ea3124f6de3c7a262a8b4abca0554b478b1e2ff90"
    },
    "language_info": {
      "codemirror_mode": {
        "name": "ipython",
        "version": 3
      },
      "file_extension": ".py",
      "mimetype": "text/x-python",
      "name": "python",
      "nbconvert_exporter": "python",
      "pygments_lexer": "ipython3",
      "version": "3.9.7"
    },
    "colab": {
      "name": "Q8(prac2_template).ipynb",
      "provenance": [],
      "collapsed_sections": [
        "2a6345e1",
        "73c1c685",
        "ac80b358",
        "526a17a0"
      ],
      "include_colab_link": true
    }
  },
  "cells": [
    {
      "cell_type": "markdown",
      "metadata": {
        "id": "view-in-github",
        "colab_type": "text"
      },
      "source": [
        "<a href=\"https://colab.research.google.com/github/aSafarpoor/NLP/blob/HW0---make-some-text-ready/Q8(prac2_template).ipynb\" target=\"_parent\"><img src=\"https://colab.research.google.com/assets/colab-badge.svg\" alt=\"Open In Colab\"/></a>"
      ]
    },
    {
      "cell_type": "markdown",
      "metadata": {
        "id": "248d47b6"
      },
      "source": [
        "**FILL THIS SECTION BY YOUR NAME AND STUDENT CODE** : \n",
        "\n",
        "- NAME : Ali Safarpoor Dehkordi\n",
        "- STUDENT CODE : 99210301"
      ],
      "id": "248d47b6"
    },
    {
      "cell_type": "code",
      "metadata": {
        "id": "e5feaada"
      },
      "source": [
        "import pandas as pd\n",
        "import numpy as np\n",
        "from matplotlib import pyplot as plt\n",
        "import seaborn#just for drawing better  charts\n",
        "import math \n",
        "import warnings"
      ],
      "id": "e5feaada",
      "execution_count": 3,
      "outputs": []
    },
    {
      "cell_type": "markdown",
      "metadata": {
        "id": "2a6345e1"
      },
      "source": [
        "### Read Dataset"
      ],
      "id": "2a6345e1"
    },
    {
      "cell_type": "markdown",
      "metadata": {
        "id": "b3590571"
      },
      "source": [
        "Read the dataset in this section."
      ],
      "id": "b3590571"
    },
    {
      "cell_type": "code",
      "metadata": {
        "colab": {
          "base_uri": "https://localhost:8080/"
        },
        "id": "7248c704",
        "outputId": "5db13b3e-ef9a-4fab-a554-cc24d71f5d4d"
      },
      "source": [
        "def shuffle(x,y):\n",
        "  perm = np.random.permutation(len(x))\n",
        "  sx = x.iloc[perm]\n",
        "  sy = y[perm]\n",
        "  return sx,sy\n",
        "\n",
        "def splitter(x,y,train_ratio):\n",
        "  l = len(x)\n",
        "  xtrain = x[:int(l*train_ratio)]\n",
        "  ytrain = y[:int(l*train_ratio)]\n",
        "\n",
        "  xtest = x[int(l*train_ratio) :]\n",
        "  ytest = y[int(l*train_ratio) :]\n",
        "\n",
        "  # return xtrain,ytrain,xtest,ytest\n",
        "  data = {\n",
        "        \"x_train\": xtrain,\n",
        "        \"y_train\": ytrain,\n",
        "        \"x_test\": xtest,\n",
        "        \"y_test\": ytest\n",
        "  }\n",
        "  return data\n",
        "\n",
        "\n",
        "def read_data(path = '' , target_name = 'target' , use_url = True):\n",
        "  if use_url:\n",
        "    url = 'https://raw.githubusercontent.com/aSafarpoor/open_repo_storhouse_for_nlp_Quran/main/heart.csv'\n",
        "    pd_data = pd.read_csv(url)\n",
        "  else:\n",
        "    pd_data = pd.read_csv( path )\n",
        "  \n",
        "  col_name = []\n",
        "  for i in list(pd_data.columns):\n",
        "    col_name.append(i)\n",
        "  \n",
        "  y_data = pd_data[target_name]\n",
        "  x_data = pd_data.drop(target_name,axis = 1)\n",
        "  \n",
        "  return x_data, y_data, col_name\n",
        "\n",
        "x,y,col_name = read_data()\n",
        "x,y = shuffle(x,y)\n",
        "x.shape,y.shape\n",
        "# print(x.head,y.head)\n",
        "\n",
        "data = splitter(x,y,0.8)\n",
        "\n",
        "data['x_train'].head , data['y_train'].head "
      ],
      "id": "7248c704",
      "execution_count": 20,
      "outputs": [
        {
          "output_type": "execute_result",
          "data": {
            "text/plain": [
              "(<bound method NDFrame.head of      age  sex  cp  trestbps  chol  ...  exang  oldpeak  slope  ca  thal\n",
              " 18    43    1   0       150   247  ...      0      1.5      2   0     2\n",
              " 235   51    1   0       140   299  ...      1      1.6      2   0     3\n",
              " 94    45    0   1       112   160  ...      0      0.0      1   0     2\n",
              " 42    45    1   0       104   208  ...      1      3.0      1   0     2\n",
              " 209   59    1   0       140   177  ...      1      0.0      2   1     3\n",
              " ..   ...  ...  ..       ...   ...  ...    ...      ...    ...  ..   ...\n",
              " 197   67    1   0       125   254  ...      0      0.2      1   2     3\n",
              " 259   38    1   3       120   231  ...      1      3.8      1   0     3\n",
              " 58    34    1   3       118   182  ...      0      0.0      2   0     2\n",
              " 280   42    1   0       136   315  ...      1      1.8      1   0     1\n",
              " 271   61    1   3       134   234  ...      0      2.6      1   2     2\n",
              " \n",
              " [242 rows x 13 columns]>, <bound method NDFrame.head of 18     1\n",
              " 235    0\n",
              " 94     1\n",
              " 42     1\n",
              " 209    0\n",
              "       ..\n",
              " 197    0\n",
              " 259    0\n",
              " 58     1\n",
              " 280    0\n",
              " 271    0\n",
              " Name: target, Length: 242, dtype: int64>)"
            ]
          },
          "metadata": {},
          "execution_count": 20
        }
      ]
    },
    {
      "cell_type": "markdown",
      "metadata": {
        "id": "73c1c685"
      },
      "source": [
        "### Prepare Dataset"
      ],
      "id": "73c1c685"
    },
    {
      "cell_type": "markdown",
      "metadata": {
        "id": "b4a6a064"
      },
      "source": [
        "First of all, search for missing values in the dataset. if there are missing values, handle them however you want."
      ],
      "id": "b4a6a064"
    },
    {
      "cell_type": "code",
      "metadata": {
        "colab": {
          "base_uri": "https://localhost:8080/"
        },
        "id": "18ad824e",
        "outputId": "cc3bb23c-abf2-4eff-d2a7-3e60128fa373"
      },
      "source": [
        "if data['x_train'].isnull().values.any() or data['y_train'].isnull().values.any() or data['x_test'].isnull().values.any() or data['y_test'].isnull().values.any():\n",
        "    print(\"NaN data detected\")\n",
        "else:\n",
        "    print(\"pass\")"
      ],
      "id": "18ad824e",
      "execution_count": 21,
      "outputs": [
        {
          "output_type": "stream",
          "name": "stdout",
          "text": [
            "pass\n"
          ]
        }
      ]
    },
    {
      "cell_type": "markdown",
      "metadata": {
        "id": "ac80b358"
      },
      "source": [
        "### Declare feature vector and target variable"
      ],
      "id": "ac80b358"
    },
    {
      "cell_type": "markdown",
      "metadata": {
        "id": "fd380b7b"
      },
      "source": [
        "Here, you are supposed to convert pandas data frame into feature vectors and target variables"
      ],
      "id": "fd380b7b"
    },
    {
      "cell_type": "code",
      "metadata": {
        "colab": {
          "base_uri": "https://localhost:8080/",
          "height": 0
        },
        "id": "cRhVb4gLF137",
        "outputId": "b20a5e76-ccc3-416f-e015-fb140ab2bd8b"
      },
      "source": [
        "'''I did it in first part of code, its function is this:'''\n",
        "\n",
        "# y_data = pd_data[target_name]\n",
        "# x_data = pd_data.drop(target_name,axis = 1)"
      ],
      "id": "cRhVb4gLF137",
      "execution_count": 22,
      "outputs": [
        {
          "output_type": "execute_result",
          "data": {
            "application/vnd.google.colaboratory.intrinsic+json": {
              "type": "string"
            },
            "text/plain": [
              "'I did it in first part of code, its function is this:'"
            ]
          },
          "metadata": {},
          "execution_count": 22
        }
      ]
    },
    {
      "cell_type": "markdown",
      "metadata": {
        "id": "526a17a0"
      },
      "source": [
        "### Split data into separate training and test set"
      ],
      "id": "526a17a0"
    },
    {
      "cell_type": "markdown",
      "metadata": {
        "id": "e25fd9b6"
      },
      "source": [
        "Now it's time to split X and y into separate training and test set. You can use the sklearn library for this section."
      ],
      "id": "e25fd9b6"
    },
    {
      "cell_type": "code",
      "metadata": {
        "id": "dc35fe6c"
      },
      "source": [
        "# I did it in first part of code\n",
        "# its function is this:\n",
        "def splitter(x,y,train_ratio):\n",
        "  l = len(x)\n",
        "  xtrain = x[:int(l*train_ratio)]\n",
        "  ytrain = y[:int(l*train_ratio)]\n",
        "\n",
        "  xtest = x[int(l*train_ratio) :]\n",
        "  ytest = y[int(l*train_ratio) :]\n",
        "\n",
        "  data = {\n",
        "        \"x_train\": xtrain,\n",
        "        \"y_train\": ytrain,\n",
        "        \"x_test\": xtest,\n",
        "        \"y_test\": ytest\n",
        "  }\n",
        "  return data\n"
      ],
      "id": "dc35fe6c",
      "execution_count": 23,
      "outputs": []
    },
    {
      "cell_type": "markdown",
      "metadata": {
        "id": "c339be89"
      },
      "source": [
        "In this cell, you are going to implement your decision tree. Feel free to add more arguments to functions or add your desired functions."
      ],
      "id": "c339be89"
    },
    {
      "cell_type": "markdown",
      "metadata": {
        "id": "d6555b74"
      },
      "source": [
        "## Implement desicion tree algorithm"
      ],
      "id": "d6555b74"
    },
    {
      "cell_type": "code",
      "metadata": {
        "id": "DoZW1Kw8GUVY"
      },
      "source": [
        "class Node:\n",
        "  def __init__(self, id, n_type, true_child = 0, neg_child = 0, feature = 0, result = 0):\n",
        "    self.id = id\n",
        "    self.n_type = n_type\n",
        "    self.true_child = true_child\n",
        "    self.neg_child = neg_child\n",
        "    self.feature = feature\n",
        "    self.result = result\n",
        "\n",
        "  def prt(self):\n",
        "    if self.n_type == \"leaf\":\n",
        "      print(self.id)\n",
        "      print(self.result)\n",
        "    else:\n",
        "      print(self.id)\n",
        "      print(self.feature)\n",
        "      print(self.true_child.id)\n",
        "      print(self.neg_child.id)"
      ],
      "id": "DoZW1Kw8GUVY",
      "execution_count": 24,
      "outputs": []
    },
    {
      "cell_type": "code",
      "metadata": {
        "colab": {
          "base_uri": "https://localhost:8080/"
        },
        "id": "b689aee8",
        "outputId": "92b661ed-057f-4a18-cc04-18d648e2c80b"
      },
      "source": [
        "class DecisionTree:\n",
        "  def __init__(self, criterion=\"entropy\", max_depth=13):\n",
        "    self.nodes = []\n",
        "    self.root = 0\n",
        "    if max_depth == None:\n",
        "        self.max_depth = 20\n",
        "    self.max_depth=max_depth \n",
        "    self.criterion = criterion\n",
        "\n",
        "  def fit(self, data):\n",
        "    self.root = self.make_tree_rec(data, 1, self.max_depth)\n",
        "    self.nodes.append(self.root)\n",
        "    return self.root\n",
        "    s = int(input())\n",
        "    while(s != -1):\n",
        "        node = self.nodes[s]\n",
        "        node.prt()\n",
        "        print(\"-------------------\")\n",
        "\n",
        "        s = int(input())\n",
        "\n",
        "  def make_tree_rec(self, data, depth, max_depth):\n",
        "    x_train_mean = data[\"x_train\"].mean()\n",
        "    x_train_bin = data[\"x_train\"] > x_train_mean\n",
        "    cols = x_train_bin.columns\n",
        "\n",
        "    pos_percentage = len(data[\"y_train\"].loc[data[\"y_train\"] == True]) / len(data[\"y_train\"])\n",
        "    if depth > max_depth:\n",
        "      if pos_percentage > 0.5:\n",
        "        result = True\n",
        "      else:\n",
        "        result = False\n",
        "      node = Node(len(self.nodes), \"leaf\", result=result)\n",
        "      self.nodes.append(node)\n",
        "      return node\n",
        "    elif pos_percentage == 0:\n",
        "      node = Node(len(self.nodes), \"leaf\", result=False)\n",
        "      self.nodes.append(node)\n",
        "      return node\n",
        "    elif pos_percentage == 1:\n",
        "      node = Node(len(self.nodes), \"leaf\", result=True)\n",
        "      self.nodes.append(node)\n",
        "      return node\n",
        "    \n",
        "    if self.criterion == 'entropy':\n",
        "      ents = []\n",
        "      for col in cols:\n",
        "        sel_col = x_train_bin[col]\n",
        "        entropy = 0\n",
        "        for class_type in [True, False]:\n",
        "          class_x = sel_col[sel_col == class_type]\n",
        "          class_y = data[\"y_train\"][sel_col == class_type]\n",
        "          if len(class_x) == 0:\n",
        "            continue\n",
        "          pos_prob = len(class_x[class_y == True]) / len(class_x)\n",
        "          if pos_prob == 1 or pos_prob == 0:\n",
        "            class_entropy = 0\n",
        "            continue\n",
        "          else:\n",
        "            class_entropy = pos_prob * math.log2(pos_prob) + (1 - pos_prob) * math.log2(1 - pos_prob)\n",
        "          entropy += (len(class_x) / len(sel_col)) * -1 * (class_entropy)\n",
        "        ents.append((col, entropy))\n",
        "\n",
        "      best_col = min(ents, key = lambda a: a[1])[0]\n",
        "\n",
        "    else: # criterion = 'gini':\n",
        "      gins = []\n",
        "      for col in cols:\n",
        "        sel_col = x_train_bin[col]\n",
        "        gini = 0\n",
        "        for class_type in [True, False]:\n",
        "          class_x = sel_col[sel_col == class_type]\n",
        "          class_y = data[\"y_train\"][sel_col == class_type]\n",
        "          if len(class_x) == 0:\n",
        "            continue\n",
        "          pos_prob = len(class_x[class_y == True]) / len(class_x)\n",
        "          if pos_prob == 1 or pos_prob == 0:\n",
        "            class_gini = 0\n",
        "            continue\n",
        "          else:\n",
        "            # class_gini = pos_prob * math.log2(pos_prob) + (1 - pos_prob) * math.log2(1 - pos_prob)\n",
        "            class_gini = 1 - (pos_prob**2 + (1-pos_prob)**2)\n",
        "\n",
        "          gini += (len(class_x) / len(sel_col)) * -1 * (class_gini)\n",
        "        gins.append((col, gini))\n",
        "\n",
        "      best_col = min(gins, key = lambda a: a[1])[0]\n",
        "                                                 \n",
        "    true_x = data[\"x_train\"][x_train_bin[best_col] == True]\n",
        "    true_y = data[\"y_train\"][x_train_bin[best_col] == True]\n",
        "    neg_x =  data[\"x_train\"][x_train_bin[best_col] == False]\n",
        "    neg_y =  data[\"y_train\"][x_train_bin[best_col] == False]\n",
        "    if depth < max_depth:\n",
        "      true_x.drop(best_col,inplace=True, axis=1)\n",
        "      neg_x.drop(best_col,inplace=True, axis=1)\n",
        "    new_data_tr = {\n",
        "        \"x_train\": true_x,\n",
        "        \"y_train\": true_y\n",
        "    }\n",
        "    new_data_ng = {\n",
        "        \"x_train\": neg_x,\n",
        "        \"y_train\": neg_y\n",
        "    }\n",
        "\n",
        "    if len(true_y) == 0 or len(neg_y) == 0:\n",
        "      if pos_percentage > 0.5:\n",
        "        result = True\n",
        "      else:\n",
        "        result = False\n",
        "      node = Node(len(self.nodes), \"leaf\", result=result)\n",
        "      self.nodes.append(node)\n",
        "      return node\n",
        "\n",
        "    true_chil = self.make_tree_rec(new_data_tr, depth+1, max_depth)\n",
        "    neg_chil = self.make_tree_rec(new_data_ng, depth+1, max_depth)\n",
        "\n",
        "    node = Node(len(self.nodes), \"node\", feature=best_col, true_child=true_chil, neg_child=neg_chil)\n",
        "    self.nodes.append(node)\n",
        "    return node\n",
        "  \n",
        "  def get_result_on_tree(self, row, node):\n",
        "    if node.n_type == \"leaf\":\n",
        "      return node.result\n",
        "    feature = node.feature\n",
        "    if row.loc[feature] == True:\n",
        "      return self.get_result_on_tree(row, node.true_child)\n",
        "    else:\n",
        "      return self.get_result_on_tree(row, node.neg_child)\n",
        "\n",
        "warnings.filterwarnings('ignore')\n",
        "DTree = DecisionTree(criterion= 'entropy', max_depth=13 )\n",
        "DTree.fit(data)"
      ],
      "id": "b689aee8",
      "execution_count": 65,
      "outputs": [
        {
          "output_type": "execute_result",
          "data": {
            "text/plain": [
              "<__main__.Node at 0x7fd6fc942f50>"
            ]
          },
          "metadata": {},
          "execution_count": 65
        }
      ]
    },
    {
      "cell_type": "markdown",
      "metadata": {
        "id": "c267b831"
      },
      "source": [
        "### Part 1 : Compare Gini and Entropy "
      ],
      "id": "c267b831"
    },
    {
      "cell_type": "code",
      "metadata": {
        "id": "511ec5db"
      },
      "source": [
        "DTreeG = DecisionTree( criterion='gibi')\n",
        "DTreeE = DecisionTree( criterion='entropy')"
      ],
      "id": "511ec5db",
      "execution_count": 66,
      "outputs": []
    },
    {
      "cell_type": "markdown",
      "metadata": {
        "id": "0bb1f0ac"
      },
      "source": [
        "In this cell, fit both declared trees on the train set and predict values on the test set."
      ],
      "id": "0bb1f0ac"
    },
    {
      "cell_type": "code",
      "metadata": {
        "id": "wG-k-clwfEFR"
      },
      "source": [
        "rootg = DTreeG.fit(data)\n",
        "roote = DTreeE.fit(data)"
      ],
      "id": "wG-k-clwfEFR",
      "execution_count": 52,
      "outputs": []
    },
    {
      "cell_type": "code",
      "metadata": {
        "colab": {
          "base_uri": "https://localhost:8080/"
        },
        "id": "826f7e9e",
        "outputId": "d94216b2-e976-4d0b-8a26-c81fa8425d74"
      },
      "source": [
        "tp = fp = tn = fn = 0\n",
        "tup_xy  = (data[\"x_train\"], data[\"y_train\"])\n",
        "x_datas, y_datas = tup_xy[0], tup_xy[1]\n",
        "x_datas_mean = x_datas.mean()\n",
        "x_datas_bin = x_datas > x_datas_mean\n",
        "corrects = 0\n",
        "for i in range(len(y_datas)):\n",
        "  res = DTreeG.get_result_on_tree(x_datas_bin.iloc[i], rootg)\n",
        "  reshat = y_datas.iloc[i]\n",
        "  if res == reshat:\n",
        "    corrects += 1\n",
        "  if res == 1:\n",
        "    if reshat == 1:\n",
        "      tp+=1\n",
        "    else:\n",
        "      fp+=1\n",
        "  else:\n",
        "    if reshat == 1:\n",
        "      fn+=1\n",
        "    else:\n",
        "      tn+=1\n",
        "cm_traing = [tp, fp,tn, fn]\n",
        "acc = corrects / len(y_datas)\n",
        "print('train gini:' ,acc)\n",
        "\n",
        "tp = fp = tn = fn = 0\n",
        "tup_xy  = (data[\"x_test\"], data[\"y_test\"])\n",
        "x_datas, y_datas = tup_xy[0], tup_xy[1]\n",
        "x_datas_mean = x_datas.mean()\n",
        "x_datas_bin = x_datas > x_datas_mean\n",
        "corrects = 0\n",
        "for i in range(len(y_datas)):\n",
        "  #print(x_datas_bin.iloc[i])\n",
        "  res = DTreeG.get_result_on_tree(x_datas_bin.iloc[i], rootg)\n",
        "  reshat = y_datas.iloc[i]\n",
        "  if res == reshat:\n",
        "    corrects += 1\n",
        "  if res == 1:\n",
        "    if reshat == 1:\n",
        "      tp+=1\n",
        "    else:\n",
        "      fp+=1\n",
        "  else:\n",
        "    if reshat == 1:\n",
        "      fn+=1\n",
        "    else:\n",
        "      tn+=1\n",
        "cm_testg = [tp, fp,tn, fn]\n",
        "acc = corrects / len(y_datas)\n",
        "print(\"test gini\" ,acc)\n",
        "\n",
        "tp = fp = tn = fn = 0\n",
        "tup_xy  = (data[\"x_train\"], data[\"y_train\"])\n",
        "x_datas, y_datas = tup_xy[0], tup_xy[1]\n",
        "x_datas_mean = x_datas.mean()\n",
        "x_datas_bin = x_datas > x_datas_mean\n",
        "corrects = 0\n",
        "for i in range(len(y_datas)):\n",
        "  #print(x_datas_bin.iloc[i])\n",
        "  res = DTreeE.get_result_on_tree(x_datas_bin.iloc[i], roote)\n",
        "  reshat = y_datas.iloc[i]\n",
        "  if res == reshat:\n",
        "    corrects += 1\n",
        "  if res == 1:\n",
        "    if reshat == 1:\n",
        "      tp+=1\n",
        "    else:\n",
        "      fp+=1\n",
        "  else:\n",
        "    if reshat == 1:\n",
        "      fn+=1\n",
        "    else:\n",
        "      tn+=1\n",
        "cm_trainent = [tp, fp,tn, fn]\n",
        "acc = corrects / len(y_datas)\n",
        "print('train entropy',acc)\n",
        "\n",
        "tp = fp = tn = fn = 0\n",
        "tup_xy  = (data[\"x_test\"], data[\"y_test\"])\n",
        "x_datas, y_datas = tup_xy[0], tup_xy[1]\n",
        "x_datas_mean = x_datas.mean()\n",
        "x_datas_bin = x_datas > x_datas_mean\n",
        "corrects = 0\n",
        "for i in range(len(y_datas)):\n",
        "  #print(x_datas_bin.iloc[i])\n",
        "  res = DTreeE.get_result_on_tree(x_datas_bin.iloc[i], roote)\n",
        "  reshat = y_datas.iloc[i]\n",
        "  if res == reshat:\n",
        "    corrects += 1\n",
        "  if res == 1:\n",
        "    if reshat == 1:\n",
        "      tp+=1\n",
        "    else:\n",
        "      fp+=1\n",
        "  else:\n",
        "    if reshat == 1:\n",
        "      fn+=1\n",
        "    else:\n",
        "      tn+=1\n",
        "cm_testent = [tp, fp,tn, fn]\n",
        "acc = corrects / len(y_datas)\n",
        "print('test entropy',acc)\n",
        "\n",
        "print(\" \")\n",
        "for i in [cm_traing,cm_trainent,cm_testg,cm_testent]:\n",
        "  print(i)"
      ],
      "id": "826f7e9e",
      "execution_count": 60,
      "outputs": [
        {
          "output_type": "stream",
          "name": "stdout",
          "text": [
            "train gini: 0.6570247933884298\n",
            "test gini 0.5573770491803278\n",
            "train entropy 0.9049586776859504\n",
            "test entropy 0.7049180327868853\n",
            " \n",
            "[74, 24, 85, 59]\n",
            "[123, 13, 96, 10]\n",
            "[14, 9, 20, 18]\n",
            "[21, 7, 22, 11]\n"
          ]
        }
      ]
    },
    {
      "cell_type": "markdown",
      "metadata": {
        "id": "a3ecdffe"
      },
      "source": [
        "Plot confusion matrix for both decision trees."
      ],
      "id": "a3ecdffe"
    },
    {
      "cell_type": "code",
      "metadata": {
        "colab": {
          "base_uri": "https://localhost:8080/",
          "height": 286
        },
        "id": "tRrsUjT0MsvQ",
        "outputId": "3ce804a4-3d3d-4c5c-96f0-f690269ace85"
      },
      "source": [
        "a = cm_testg\n",
        "seaborn.heatmap([[a[0],a[1]],[a[2],a[3]]],annot=True, fmt='', cmap='Blues')"
      ],
      "id": "tRrsUjT0MsvQ",
      "execution_count": 61,
      "outputs": [
        {
          "output_type": "execute_result",
          "data": {
            "text/plain": [
              "<matplotlib.axes._subplots.AxesSubplot at 0x7fd7054a96d0>"
            ]
          },
          "metadata": {},
          "execution_count": 61
        },
        {
          "output_type": "display_data",
          "data": {
            "image/png": "[encoded data removed]",
            "text/plain": [
              "<Figure size 432x288 with 2 Axes>"
            ]
          },
          "metadata": {
            "needs_background": "light"
          }
        }
      ]
    },
    {
      "cell_type": "code",
      "metadata": {
        "colab": {
          "base_uri": "https://localhost:8080/",
          "height": 286
        },
        "id": "GjoXPIpPMskw",
        "outputId": "048019a9-4323-49de-e778-0596304709af"
      },
      "source": [
        "a = cm_testent\n",
        "seaborn.heatmap([[a[0],a[1]],[a[2],a[3]]],annot=True, fmt='', cmap='Blues')"
      ],
      "id": "GjoXPIpPMskw",
      "execution_count": 62,
      "outputs": [
        {
          "output_type": "execute_result",
          "data": {
            "text/plain": [
              "<matplotlib.axes._subplots.AxesSubplot at 0x7fd6fcb603d0>"
            ]
          },
          "metadata": {},
          "execution_count": 62
        },
        {
          "output_type": "display_data",
          "data": {
            "image/png": "[encoded data removed]",
            "text/plain": [
              "<Figure size 432x288 with 2 Axes>"
            ]
          },
          "metadata": {
            "needs_background": "light"
          }
        }
      ]
    },
    {
      "cell_type": "code",
      "metadata": {
        "colab": {
          "base_uri": "https://localhost:8080/"
        },
        "id": "pygSP70yMsSA",
        "outputId": "661a680a-6141-47a7-ec40-a2cec7b916a3"
      },
      "source": [
        "print(\"in Gini: \", \"tp=\" , resg[0] , ' tn=' , resg[1] , ' fp=' , resg[2] , ' fn=' , resg[3])\n",
        "print(\"in Entropy: \", \"tp=\" , rese[0] , ' tn=' , rese[1] , ' fp=' , rese[2] , ' fn=' , rese[3])"
      ],
      "id": "pygSP70yMsSA",
      "execution_count": 94,
      "outputs": [
        {
          "output_type": "stream",
          "name": "stdout",
          "text": [
            "in Gini:  tp= 69  tn= 24  fp= 114  fn= 96\n",
            "in Entropy:  tp= 145  tn= 11  fp= 127  fn= 20\n"
          ]
        }
      ]
    },
    {
      "cell_type": "code",
      "metadata": {
        "colab": {
          "base_uri": "https://localhost:8080/",
          "height": 282
        },
        "id": "mKWUuyVli8zn",
        "outputId": "3837f01b-2574-4a49-a17a-ebb08baf55b1"
      },
      "source": [
        "a = cm_traing\n",
        "seaborn.heatmap([[a[0],a[1]],[a[2],a[3]]],annot=True, fmt='', cmap='Blues')"
      ],
      "id": "mKWUuyVli8zn",
      "execution_count": 63,
      "outputs": [
        {
          "output_type": "execute_result",
          "data": {
            "text/plain": [
              "<matplotlib.axes._subplots.AxesSubplot at 0x7fd6fca821d0>"
            ]
          },
          "metadata": {},
          "execution_count": 63
        },
        {
          "output_type": "display_data",
          "data": {
            "image/png": "[encoded data removed]",
            "text/plain": [
              "<Figure size 432x288 with 2 Axes>"
            ]
          },
          "metadata": {
            "needs_background": "light"
          }
        }
      ]
    },
    {
      "cell_type": "code",
      "metadata": {
        "colab": {
          "base_uri": "https://localhost:8080/",
          "height": 282
        },
        "id": "pGi-BE1xi83O",
        "outputId": "1a1d65a5-4207-456f-9c00-ebb261bc1a15"
      },
      "source": [
        "a = cm_trainent\n",
        "seaborn.heatmap([[a[0],a[1]],[a[2],a[3]]],annot=True, fmt='', cmap='Blues')"
      ],
      "id": "pGi-BE1xi83O",
      "execution_count": 64,
      "outputs": [
        {
          "output_type": "execute_result",
          "data": {
            "text/plain": [
              "<matplotlib.axes._subplots.AxesSubplot at 0x7fd7054a9fd0>"
            ]
          },
          "metadata": {},
          "execution_count": 64
        },
        {
          "output_type": "display_data",
          "data": {
            "image/png": "[encoded data removed]",
            "text/plain": [
              "<Figure size 432x288 with 2 Axes>"
            ]
          },
          "metadata": {
            "needs_background": "light"
          }
        }
      ]
    },
    {
      "cell_type": "markdown",
      "metadata": {
        "id": "40e9f01f"
      },
      "source": [
        "### Part 2 : Let's add maximum depth!"
      ],
      "id": "40e9f01f"
    },
    {
      "cell_type": "code",
      "metadata": {
        "id": "FY_hD8LeG_S6"
      },
      "source": [
        "def test_tree(criterion,data,max_depth = 13):\n",
        "  DTree = DecisionTree(max_depth=max_depth , criterion=criterion)\n",
        "  root = DTree.fit(data)\n",
        "\n",
        "  accs = []\n",
        "  for tup_xy in [(data[\"x_train\"], data[\"y_train\"]), (data[\"x_test\"], data[\"y_test\"])]:\n",
        "    x_datas, y_datas = tup_xy[0], tup_xy[1]\n",
        "    x_datas_mean = x_datas.mean()\n",
        "    x_datas_bin = x_datas > x_datas_mean\n",
        "    corrects = 0\n",
        "    for i in range(len(y_datas)):\n",
        "      #print(x_datas_bin.iloc[i])\n",
        "      res = get_result_on_tree(x_datas_bin.iloc[i], root)\n",
        "      if res == y_datas.iloc[i]:\n",
        "        corrects += 1\n",
        "    acc = corrects / len(y_datas)\n",
        "    accs.append(acc)\n",
        "  return accs\n",
        "  \n",
        "def plot_tree_acc(data,criterion,max_depth):\n",
        "  train_accs = []\n",
        "  test_accs = []\n",
        "  for i in range(1, max_depth+1):\n",
        "    accs = test_tree(data=data,max_depth= i,criterion=criterion)\n",
        "    train_accs.append(accs[0])\n",
        "    test_accs.append(accs[1])\n",
        "\n",
        "  plt.plot(range(1, len(test_accs)+1), train_accs, label = \"Train Accuracy\")\n",
        "  plt.plot(range(1, len(test_accs)+1), test_accs, label = \"Test Accuracy\")\n",
        "  plt.xlabel(\"Maximum Depth of Tree\")\n",
        "  plt.ylabel('acc')\n",
        "  plt.title(criterion)\n",
        "  plt.legend()\n",
        "  plt.show()\n",
        "  "
      ],
      "id": "FY_hD8LeG_S6",
      "execution_count": 35,
      "outputs": []
    },
    {
      "cell_type": "code",
      "metadata": {
        "colab": {
          "base_uri": "https://localhost:8080/",
          "height": 295
        },
        "id": "kYs6Xbnhc5Kd",
        "outputId": "a2bf3716-023e-4886-9898-42749c551dfc"
      },
      "source": [
        "plot_tree_acc(data=data,max_depth=14,criterion='entropy')"
      ],
      "id": "kYs6Xbnhc5Kd",
      "execution_count": 36,
      "outputs": [
        {
          "output_type": "display_data",
          "data": {
            "image/png": "[encoded data removed]",
            "text/plain": [
              "<Figure size 432x288 with 1 Axes>"
            ]
          },
          "metadata": {
            "needs_background": "light"
          }
        }
      ]
    },
    {
      "cell_type": "code",
      "metadata": {
        "colab": {
          "base_uri": "https://localhost:8080/",
          "height": 295
        },
        "id": "c7hQ-CNpcs9X",
        "outputId": "7a6e9c2e-b3b5-4a5d-d81f-4da73e64d500"
      },
      "source": [
        "plot_tree_acc(data=data,max_depth=14,criterion='gini')"
      ],
      "id": "c7hQ-CNpcs9X",
      "execution_count": 37,
      "outputs": [
        {
          "output_type": "display_data",
          "data": {
            "image/png": "[encoded data removed]",
            "text/plain": [
              "<Figure size 432x288 with 1 Axes>"
            ]
          },
          "metadata": {
            "needs_background": "light"
          }
        }
      ]
    },
    {
      "cell_type": "code",
      "metadata": {
        "id": "a8f43ec3"
      },
      "source": [
        "for depth, score in zip(max_depths, accuracy_scores):\n",
        "    print(f\"Depth : {depth}, Accuracy : {score}\")"
      ],
      "id": "a8f43ec3",
      "execution_count": null,
      "outputs": []
    },
    {
      "cell_type": "markdown",
      "metadata": {
        "id": "a7e81c1d"
      },
      "source": [
        "Now compare the accuracy score of decision trees with and without using the \"max_depth\" parameter and discuss the effects of limiting the maximum depth of decision trees."
      ],
      "id": "a7e81c1d"
    },
    {
      "cell_type": "markdown",
      "metadata": {
        "id": "IrJmBpmVkSSb"
      },
      "source": [
        "for **train** best depth is around `10 to 12`\n",
        "without depth I used more number than data feature infact and it is same as a depth, bytheway output is same in training.\n",
        "\n",
        "but in **test** we see overfitting around `4-6` in entropy and around 8 in gini, and it means limited depth is better at all.\n",
        "\n",
        "between **gini** and **entropy**, gini is **overftting** sooner and its **accuracy** is less than entropy, so based of this info entropy is better."
      ],
      "id": "IrJmBpmVkSSb"
    },
    {
      "cell_type": "code",
      "metadata": {
        "id": "475fa1c7"
      },
      "source": [
        "# for train best depth is around 10 to 12\n",
        "# without depth I used more number than data feature infact and it is same as a depth, bytheway output is same in training.\n",
        "# but we see overfitting around 4-6 in entropy and around 8 in gini, and it means limited depth is better at all.\n",
        "\n",
        "# between gini and entropy, gini is overftting sooner and its accuracy is less than entropy, so based of this info entropy is better."
      ],
      "id": "475fa1c7",
      "execution_count": null,
      "outputs": []
    }
  ]
}